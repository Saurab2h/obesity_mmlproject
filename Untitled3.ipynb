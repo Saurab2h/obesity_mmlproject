{
  "cells": [
    {
      "cell_type": "markdown",
      "metadata": {
        "id": "view-in-github",
        "colab_type": "text"
      },
      "source": [
        "<a href=\"https://colab.research.google.com/github/Saurab2h/obesity_mmlproject/blob/main/Untitled3.ipynb\" target=\"_parent\"><img src=\"https://colab.research.google.com/assets/colab-badge.svg\" alt=\"Open In Colab\"/></a>"
      ]
    },
    {
      "cell_type": "code",
      "execution_count": 1,
      "metadata": {
        "colab": {
          "base_uri": "https://localhost:8080/"
        },
        "id": "ZuatSbZbp1K1",
        "outputId": "d3258744-d641-471d-b6a1-f82d407a880e"
      },
      "outputs": [
        {
          "output_type": "stream",
          "name": "stdout",
          "text": [
            "Requirement already satisfied: xgboost in /usr/local/lib/python3.12/dist-packages (3.0.5)\n",
            "Requirement already satisfied: numpy in /usr/local/lib/python3.12/dist-packages (from xgboost) (2.0.2)\n",
            "Requirement already satisfied: nvidia-nccl-cu12 in /usr/local/lib/python3.12/dist-packages (from xgboost) (2.27.3)\n",
            "Requirement already satisfied: scipy in /usr/local/lib/python3.12/dist-packages (from xgboost) (1.16.2)\n"
          ]
        }
      ],
      "source": [
        "pip install xgboost"
      ]
    },
    {
      "cell_type": "code",
      "execution_count": 2,
      "metadata": {
        "id": "PjI8-WY1zV6d"
      },
      "outputs": [],
      "source": [
        "import numpy as np\n",
        "import pandas as pd\n",
        "from sklearn.model_selection import train_test_split\n",
        "from sklearn.preprocessing import LabelEncoder, StandardScaler\n",
        "from sklearn.metrics import accuracy_score, classification_report, confusion_matrix\n",
        "from sklearn.tree import DecisionTreeClassifier\n",
        "from sklearn.ensemble import RandomForestClassifier\n",
        "from xgboost import XGBClassifier\n",
        "import matplotlib.pyplot as plt\n",
        "import seaborn as sns\n"
      ]
    },
    {
      "cell_type": "code",
      "execution_count": 6,
      "metadata": {
        "colab": {
          "base_uri": "https://localhost:8080/"
        },
        "id": "YM7r9YTb1H8f",
        "outputId": "17f2f78a-d4e4-47bd-8088-6bd9c9eb215f"
      },
      "outputs": [
        {
          "output_type": "stream",
          "name": "stdout",
          "text": [
            "   id  Gender        Age    Height      Weight family_history_with_overweight  \\\n",
            "0   0    Male  24.443011  1.699998   81.669950                            yes   \n",
            "1   1  Female  18.000000  1.560000   57.000000                            yes   \n",
            "2   2  Female  18.000000  1.711460   50.165754                            yes   \n",
            "3   3  Female  20.952737  1.710730  131.274851                            yes   \n",
            "4   4    Male  31.641081  1.914186   93.798055                            yes   \n",
            "\n",
            "  FAVC      FCVC       NCP        CAEC SMOKE      CH2O SCC       FAF  \\\n",
            "0  yes  2.000000  2.983297   Sometimes    no  2.763573  no  0.000000   \n",
            "1  yes  2.000000  3.000000  Frequently    no  2.000000  no  1.000000   \n",
            "2  yes  1.880534  1.411685   Sometimes    no  1.910378  no  0.866045   \n",
            "3  yes  3.000000  3.000000   Sometimes    no  1.674061  no  1.467863   \n",
            "4  yes  2.679664  1.971472   Sometimes    no  1.979848  no  1.967973   \n",
            "\n",
            "        TUE       CALC                 MTRANS       WeightCategory  \n",
            "0  0.976473  Sometimes  Public_Transportation  Overweight_Level_II  \n",
            "1  1.000000         no             Automobile        Normal_Weight  \n",
            "2  1.673584         no  Public_Transportation  Insufficient_Weight  \n",
            "3  0.780199  Sometimes  Public_Transportation     Obesity_Type_III  \n",
            "4  0.931721  Sometimes  Public_Transportation  Overweight_Level_II  \n",
            "<class 'pandas.core.frame.DataFrame'>\n",
            "RangeIndex: 15533 entries, 0 to 15532\n",
            "Data columns (total 18 columns):\n",
            " #   Column                          Non-Null Count  Dtype  \n",
            "---  ------                          --------------  -----  \n",
            " 0   id                              15533 non-null  int64  \n",
            " 1   Gender                          15533 non-null  object \n",
            " 2   Age                             15533 non-null  float64\n",
            " 3   Height                          15533 non-null  float64\n",
            " 4   Weight                          15533 non-null  float64\n",
            " 5   family_history_with_overweight  15533 non-null  object \n",
            " 6   FAVC                            15533 non-null  object \n",
            " 7   FCVC                            15533 non-null  float64\n",
            " 8   NCP                             15533 non-null  float64\n",
            " 9   CAEC                            15533 non-null  object \n",
            " 10  SMOKE                           15533 non-null  object \n",
            " 11  CH2O                            15533 non-null  float64\n",
            " 12  SCC                             15533 non-null  object \n",
            " 13  FAF                             15533 non-null  float64\n",
            " 14  TUE                             15533 non-null  float64\n",
            " 15  CALC                            15533 non-null  object \n",
            " 16  MTRANS                          15533 non-null  object \n",
            " 17  WeightCategory                  15533 non-null  object \n",
            "dtypes: float64(8), int64(1), object(9)\n",
            "memory usage: 2.1+ MB\n",
            "None\n"
          ]
        }
      ],
      "source": [
        "# Load the training and test data\n",
        "train = pd.read_csv(\"train.csv\")\n",
        "test = pd.read_csv(\"test.csv\")\n",
        "\n",
        "print(train.head())\n",
        "print(train.info())\n"
      ]
    },
    {
      "cell_type": "code",
      "execution_count": 7,
      "metadata": {
        "id": "O0KQ_wuW3yeK"
      },
      "outputs": [],
      "source": [
        "# Example: assume 'target' is your label column\n",
        "X = train.drop('WeightCategory', axis=1)\n",
        "y = train['WeightCategory']\n",
        "\n",
        "# Encode categorical variables (if any) BEFORE splitting\n",
        "X = pd.get_dummies(X, drop_first=True)\n",
        "\n",
        "# Split data\n",
        "X_train, X_test, y_train, y_test = train_test_split(X, y, test_size=0.2, random_state=42)\n",
        "\n",
        "# Scale numerical features\n",
        "scaler = StandardScaler()\n",
        "X_train = scaler.fit_transform(X_train)\n",
        "X_test = scaler.transform(X_test)"
      ]
    },
    {
      "cell_type": "code",
      "execution_count": 8,
      "metadata": {
        "colab": {
          "base_uri": "https://localhost:8080/"
        },
        "id": "H1XW4Hwe4AGe",
        "outputId": "a183f636-0c0d-4411-f9f5-1c4ade2a5565"
      },
      "outputs": [
        {
          "output_type": "stream",
          "name": "stdout",
          "text": [
            "Random Forest Accuracy: 0.8863855809462504\n"
          ]
        }
      ],
      "source": [
        "rf = RandomForestClassifier(n_estimators=200, random_state=42)\n",
        "rf.fit(X_train, y_train)\n",
        "rf_pred = rf.predict(X_test)\n",
        "rf_acc = accuracy_score(y_test, rf_pred)\n",
        "print(\"Random Forest Accuracy:\", rf_acc)\n"
      ]
    },
    {
      "cell_type": "code",
      "execution_count": 9,
      "metadata": {
        "colab": {
          "base_uri": "https://localhost:8080/"
        },
        "id": "--qk0JzX4Eg7",
        "outputId": "3dee2910-392f-4941-bbe0-37fe9def2516"
      },
      "outputs": [
        {
          "output_type": "stream",
          "name": "stderr",
          "text": [
            "/usr/local/lib/python3.12/dist-packages/xgboost/training.py:183: UserWarning: [11:50:20] WARNING: /workspace/src/learner.cc:738: \n",
            "Parameters: { \"use_label_encoder\" } are not used.\n",
            "\n",
            "  bst.update(dtrain, iteration=i, fobj=obj)\n"
          ]
        },
        {
          "output_type": "stream",
          "name": "stdout",
          "text": [
            "✅ Predictions saved to submission.csv\n"
          ]
        }
      ],
      "source": [
        "import pandas as pd\n",
        "from sklearn.preprocessing import LabelEncoder, StandardScaler\n",
        "from xgboost import XGBClassifier\n",
        "\n",
        "# Load the training and test data\n",
        "train = pd.read_csv(\"train.csv\")\n",
        "test = pd.read_csv(\"test.csv\")\n",
        "\n",
        "# =============================================\n",
        "# Separate features and target\n",
        "# =============================================\n",
        "X_train = train.drop(['id', 'WeightCategory'], axis=1)\n",
        "y_train = train['WeightCategory']\n",
        "\n",
        "X_test = test.drop(['id'], axis=1)  # Only features, no target\n",
        "\n",
        "# One-hot encode categorical features\n",
        "X_train = pd.get_dummies(X_train, drop_first=True)\n",
        "X_test = pd.get_dummies(X_test, drop_first=True)\n",
        "\n",
        "# Align columns\n",
        "X_test = X_test.reindex(columns=X_train.columns, fill_value=0)\n",
        "\n",
        "# Scale numeric features\n",
        "scaler = StandardScaler()\n",
        "X_train = scaler.fit_transform(X_train)\n",
        "X_test = scaler.transform(X_test)\n",
        "\n",
        "# Encode target\n",
        "le = LabelEncoder()\n",
        "y_train_enc = le.fit_transform(y_train)\n",
        "\n",
        "# Optimized XGBoost\n",
        "xgb = XGBClassifier(\n",
        "    n_estimators=100,\n",
        "    learning_rate=0.05,\n",
        "    max_depth=23,\n",
        "    subsample=0.85,\n",
        "    colsample_bytree=0.38,\n",
        "    min_child_weight=21,\n",
        "    gamma=0.535,\n",
        "    reg_alpha=5.67e-08,\n",
        "    reg_lambda=9.15,\n",
        "    random_state=42,\n",
        "    eval_metric='mlogloss',\n",
        "    use_label_encoder=False,\n",
        "    n_jobs=-1\n",
        ")\n",
        "\n",
        "xgb.fit(X_train, y_train_enc)\n",
        "\n",
        "# Predict on test set\n",
        "y_pred = xgb.predict(X_test)\n",
        "\n",
        "# Map back to original labels\n",
        "y_pred_labels = le.inverse_transform(y_pred)\n",
        "\n",
        "# Save submission\n",
        "submission = pd.DataFrame({'id': test['id'], 'WeightCategory': y_pred_labels})\n",
        "submission.to_csv(\"submission.csv\", index=False)\n",
        "print(\"✅ Predictions saved to submission.csv\")"
      ]
    },
    {
      "cell_type": "code",
      "execution_count": 10,
      "metadata": {
        "colab": {
          "base_uri": "https://localhost:8080/"
        },
        "id": "NA_YivNSoIUC",
        "outputId": "c7873c0e-36d4-461c-c68e-b8870308bd39"
      },
      "outputs": [
        {
          "output_type": "stream",
          "name": "stdout",
          "text": [
            "Fitting 5 folds for each of 60 candidates, totalling 300 fits\n"
          ]
        },
        {
          "output_type": "stream",
          "name": "stderr",
          "text": [
            "/usr/local/lib/python3.12/dist-packages/xgboost/training.py:183: UserWarning: [12:18:55] WARNING: /workspace/src/learner.cc:738: \n",
            "Parameters: { \"use_label_encoder\" } are not used.\n",
            "\n",
            "  bst.update(dtrain, iteration=i, fobj=obj)\n"
          ]
        },
        {
          "output_type": "stream",
          "name": "stdout",
          "text": [
            "✅ Best parameters: {'subsample': 0.75, 'reg_lambda': 3, 'reg_alpha': 0, 'n_estimators': np.int64(600), 'min_child_weight': 5, 'max_depth': 4, 'learning_rate': np.float64(0.049999999999999996), 'gamma': np.float64(0.1), 'colsample_bytree': 0.85}\n",
            "✅ CV Accuracy: 90.79382471626396\n"
          ]
        },
        {
          "output_type": "stream",
          "name": "stderr",
          "text": [
            "/usr/local/lib/python3.12/dist-packages/xgboost/training.py:183: UserWarning: [12:19:04] WARNING: /workspace/src/learner.cc:738: \n",
            "Parameters: { \"use_label_encoder\" } are not used.\n",
            "\n",
            "  bst.update(dtrain, iteration=i, fobj=obj)\n"
          ]
        },
        {
          "output_type": "stream",
          "name": "stdout",
          "text": [
            "✅ submission_randomsearch.csv created\n"
          ]
        }
      ],
      "source": [
        "from sklearn.model_selection import RandomizedSearchCV\n",
        "from xgboost import XGBClassifier\n",
        "import numpy as np\n",
        "\n",
        "# Base model\n",
        "xgb = XGBClassifier(\n",
        "    objective='multi:softprob',\n",
        "    eval_metric='mlogloss',\n",
        "    use_label_encoder=False,\n",
        "    random_state=42,\n",
        "    n_jobs=-1,\n",
        "    tree_method='hist'\n",
        ")\n",
        "\n",
        "# Search space\n",
        "param_dist = {\n",
        "    'n_estimators': np.arange(300, 601, 50),           # 300–600\n",
        "    'learning_rate': np.linspace(0.025, 0.06, 8),      # small–moderate\n",
        "    'max_depth': [4,5, 6, 7],\n",
        "    'min_child_weight': [1, 2, 3, 4,5],\n",
        "    'subsample': [0.75, 0.8, 0.85,0.9],\n",
        "    'colsample_bytree': [0.7, 0.8, 0.85, 0.9],\n",
        "    'gamma': np.linspace(0, 0.4, 5),\n",
        "    'reg_alpha': [0, 0.2, 0.4, 0.6, 0.8],\n",
        "    'reg_lambda': [1, 1.5, 2, 2.5, 3],\n",
        "\n",
        "}\n",
        "\n",
        "# Randomized search (change n_iter for more/less exploration)\n",
        "rand_search = RandomizedSearchCV(\n",
        "    estimator=xgb,\n",
        "    param_distributions=param_dist,\n",
        "    n_iter=60,              # 60 random combinations\n",
        "    scoring='accuracy',\n",
        "    cv=5,                   # 5-fold CV on your training data\n",
        "    verbose=1,\n",
        "    random_state=42,\n",
        "    n_jobs=-1\n",
        ")\n",
        "\n",
        "rand_search.fit(X_train, y_train_enc)\n",
        "print(\"✅ Best parameters:\", rand_search.best_params_)\n",
        "print(\"✅ CV Accuracy:\", rand_search.best_score_ * 100)\n",
        "\n",
        "# Retrain on full training data\n",
        "best_xgb = rand_search.best_estimator_\n",
        "best_xgb.fit(X_train, y_train_enc)\n",
        "\n",
        "# Predict on test set\n",
        "y_pred = best_xgb.predict(X_test)\n",
        "y_pred_labels = le.inverse_transform(y_pred)\n",
        "\n",
        "submission = pd.DataFrame({'id': test['id'], 'WeightCategory': y_pred_labels})\n",
        "submission.to_csv(\"submission_randomsearch.csv\", index=False)\n",
        "print(\"✅ submission_randomsearch.csv created\")\n"
      ]
    },
    {
      "cell_type": "code",
      "execution_count": 11,
      "metadata": {
        "colab": {
          "base_uri": "https://localhost:8080/"
        },
        "id": "8f9546ef",
        "outputId": "fde5c350-f27e-4f29-9189-c5c3f45abe32"
      },
      "outputs": [
        {
          "output_type": "stream",
          "name": "stdout",
          "text": [
            "✅ Cross-validation Accuracy (mean): 0.9079\n",
            "✅ Cross-validation Accuracy (std): 0.0030\n"
          ]
        }
      ],
      "source": [
        "from sklearn.model_selection import cross_val_score\n",
        "\n",
        "# Define the number of folds\n",
        "n_folds = 5\n",
        "\n",
        "# Get the best estimator from the previous Randomized Search\n",
        "best_xgb = rand_search.best_estimator_\n",
        "\n",
        "# Perform cross-validation\n",
        "cv_scores = cross_val_score(best_xgb, X_train, y_train_enc, cv=n_folds, scoring='accuracy', n_jobs=-1)\n",
        "\n",
        "# Print the mean and standard deviation of the cross-validation scores\n",
        "print(f\"✅ Cross-validation Accuracy (mean): {cv_scores.mean():.4f}\")\n",
        "print(f\"✅ Cross-validation Accuracy (std): {cv_scores.std():.4f}\")"
      ]
    }
  ],
  "metadata": {
    "colab": {
      "provenance": [],
      "authorship_tag": "ABX9TyOdSJ9PoJvhjvjyUKTtI3iv",
      "include_colab_link": true
    },
    "kernelspec": {
      "display_name": "Python 3",
      "name": "python3"
    },
    "language_info": {
      "name": "python"
    }
  },
  "nbformat": 4,
  "nbformat_minor": 0
}